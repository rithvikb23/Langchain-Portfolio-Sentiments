{
 "cells": [
  {
   "cell_type": "markdown",
   "id": "f1d0ef1a",
   "metadata": {},
   "source": [
    "# Imports"
   ]
  },
  {
   "cell_type": "code",
   "execution_count": 1,
   "id": "f780d73e",
   "metadata": {},
   "outputs": [],
   "source": [
    "import os\n",
    "import pprint\n",
    "from langchain.llms.openai import OpenAI\n",
    "import warnings\n",
    "warnings.filterwarnings(\"ignore\")\n",
    "\n",
    "os.environ[\"SERPER_API_KEY\"] = config.serper_api[\"api_key\"]\n",
    "os.environ[\"OPENAI_API_KEY\"] = config.openai_default[\"api_key\"]"
   ]
  },
  {
   "cell_type": "markdown",
   "id": "6629a671",
   "metadata": {},
   "source": [
    "### Mock Portfolio - Ticker : Num of Shares"
   ]
  },
  {
   "cell_type": "code",
   "execution_count": 2,
   "id": "0d3ac269",
   "metadata": {},
   "outputs": [],
   "source": [
    "financial_portfolio = {\n",
    "                        'AAPL': 10,\n",
    "                        'FFIC': 5,\n",
    "                        'CHE': 45,\n",
    "                        'DAL': 13,\n",
    "                        'TSLA': 4\n",
    "                      }"
   ]
  },
  {
   "cell_type": "markdown",
   "id": "6db829c7",
   "metadata": {},
   "source": [
    "# Create our Custom Agent"
   ]
  },
  {
   "cell_type": "code",
   "execution_count": 5,
   "id": "af510725",
   "metadata": {},
   "outputs": [],
   "source": [
    "from langchain.agents import initialize_agent, Tool\n",
    "from langchain.agents import AgentType\n",
    "from langchain.agents import load_tools\n",
    "from langchain.utilities import GoogleSerperAPIWrapper ##Tool for connecting our LLM to the internet\n",
    "from SentimentTool import SentimentTool ##A custom tool that our model can interact with\n",
    "\n",
    "llm= OpenAI(temperature=0)"
   ]
  },
  {
   "cell_type": "code",
   "execution_count": 6,
   "id": "4de7ba5a",
   "metadata": {},
   "outputs": [],
   "source": [
    "sentiment = SentimentTool()\n",
    "tools = [\n",
    "    Tool(\n",
    "        name=\"Sentiment Analysis\",\n",
    "        func = sentiment.run,\n",
    "        description=\"useful for when wanting to find a single stock ticker's sentiment. enter one ticker at a time\"    \n",
    "    )\n",
    "]\n",
    "\n",
    "agent = initialize_agent(tools, llm, agent=AgentType.ZERO_SHOT_REACT_DESCRIPTION, verbose=True)"
   ]
  },
  {
   "cell_type": "code",
   "execution_count": 39,
   "id": "28d7af95",
   "metadata": {},
   "outputs": [
    {
     "name": "stderr",
     "output_type": "stream",
     "text": [
      "Retrying langchain.llms.openai.completion_with_retry.<locals>._completion_with_retry in 4.0 seconds as it raised RateLimitError: The server had an error while processing your request. Sorry about that!.\n"
     ]
    },
    {
     "name": "stdout",
     "output_type": "stream",
     "text": [
      "\n",
      "\n",
      "\u001b[1m> Entering new AgentExecutor chain...\u001b[0m\n",
      "\u001b[32;1m\u001b[1;3m I need to find the sentiment of each ticker in the portfolio\n",
      "Action: Sentiment Analysis\n",
      "Action Input: 'AAPL'\u001b[0m\n",
      "Observation: \u001b[36;1m\u001b[1;3m-0.022340650553150553\u001b[0m\n",
      "Thought:\u001b[32;1m\u001b[1;3m I need to find the sentiment of the next ticker in the portfolio\n",
      "Action: Sentiment Analysis\n",
      "Action Input: 'FFIC'\u001b[0m\n",
      "Observation: \u001b[36;1m\u001b[1;3m0.13273849206349206\u001b[0m\n",
      "Thought:\u001b[32;1m\u001b[1;3m I need to find the sentiment of the next ticker in the portfolio\n",
      "Action: Sentiment Analysis\n",
      "Action Input: 'CHE'\u001b[0m\n",
      "Observation: \u001b[36;1m\u001b[1;3m0.19719247967479678\u001b[0m\n",
      "Thought:\u001b[32;1m\u001b[1;3m I need to find the sentiment of the next ticker in the portfolio\n",
      "Action: Sentiment Analysis\n",
      "Action Input: 'DAL'\u001b[0m\n",
      "Observation: \u001b[36;1m\u001b[1;3m0.03460545900178254\u001b[0m\n",
      "Thought:\u001b[32;1m\u001b[1;3m I need to find the sentiment of the next ticker in the portfolio\n",
      "Action: Sentiment Analysis\n",
      "Action Input: 'TSLA'\u001b[0m\n",
      "Observation: \u001b[36;1m\u001b[1;3m0.12209967579015966\u001b[0m\n",
      "Thought:\u001b[32;1m\u001b[1;3m I now know the final answer\n",
      "Final Answer: {'AAPL': -0.022340650553150553, 'FFIC': 0.13273849206349206, 'CHE': 0.19719247967479678, 'DAL': 0.03460545900178254, 'TSLA': 0.12209967579015966}\u001b[0m\n",
      "\n",
      "\u001b[1m> Finished chain.\u001b[0m\n",
      "{'AAPL': -0.022340650553150553, 'FFIC': 0.13273849206349206, 'CHE': 0.19719247967479678, 'DAL': 0.03460545900178254, 'TSLA': 0.12209967579015966}\n"
     ]
    }
   ],
   "source": [
    "sentiment_prompt = f\"\"\"Given the portfolio Portfolio:{str(financial_portfolio)} extract the tickers and find each market\n",
    "sentiment. Return in dictionary format the ticker as the key and it's market sentiment as it's value\"\"\"\n",
    "\n",
    "sentiment_dict = agent.run(sentiment_prompt)\n",
    "print(sentiment_dict)"
   ]
  },
  {
   "cell_type": "code",
   "execution_count": null,
   "id": "0c0a65cd",
   "metadata": {},
   "outputs": [],
   "source": [
    "{\n",
    " 'AAPL': -0.022340650553150553, \n",
    " 'FFIC': 0.13273849206349206, \n",
    " 'CHE': 0.19719247967479678, \n",
    " 'DAL': 0.03460545900178254, \n",
    " 'TSLA': 0.12209967579015966\n",
    "}"
   ]
  },
  {
   "cell_type": "markdown",
   "id": "0e9dbb0b",
   "metadata": {},
   "source": [
    "# Find the Ticker With A Negative Market Sentiment - Prompt Example"
   ]
  },
  {
   "cell_type": "markdown",
   "id": "e8fcef4c",
   "metadata": {},
   "source": [
    "#### This example is to show our LLM can understand and mine through structured data like a dictionary"
   ]
  },
  {
   "cell_type": "code",
   "execution_count": 48,
   "id": "fb9e35e7",
   "metadata": {},
   "outputs": [
    {
     "name": "stdout",
     "output_type": "stream",
     "text": [
      "\n",
      "\n",
      "{'AAPL': 10}\n"
     ]
    }
   ],
   "source": [
    "from langchain.prompts import PromptTemplate\n",
    "from langchain.chains import LLMChain\n",
    "\n",
    "template = \"\"\"Find the ticker in {sentiments} with a negative value associated to it. Match the ticker with \n",
    "the ticker in {portfolio}. Return in dictionary format the key as the ticker and the value as the number of shares\"\"\"\n",
    "\n",
    "prompt_template = PromptTemplate(input_variables=[\"portfolio\", \"sentiments\"], template=template)\n",
    "\n",
    "negative_chain = LLMChain(llm=llm, prompt=prompt_template)\n",
    "\n",
    "negative_sentiment = negative_chain.run({\n",
    "    'sentiments': sentiment_dict,\n",
    "    'portfolio': str(financial_portfolio)\n",
    "\n",
    "    })\n",
    "\n",
    "print(negative_sentiment)"
   ]
  },
  {
   "cell_type": "markdown",
   "id": "4e1e3d3d",
   "metadata": {},
   "source": [
    "# Google Search Agent for Current Market Value and Current Share Price"
   ]
  },
  {
   "cell_type": "markdown",
   "id": "fa382114",
   "metadata": {},
   "source": [
    "#### First we need the stock with the highest market sentiment"
   ]
  },
  {
   "cell_type": "code",
   "execution_count": 45,
   "id": "40aee257",
   "metadata": {},
   "outputs": [
    {
     "data": {
      "text/plain": [
       "'CHE'"
      ]
     },
     "execution_count": 45,
     "metadata": {},
     "output_type": "execute_result"
    }
   ],
   "source": [
    "import ast\n",
    "\n",
    "sentiment_dict1 = ast.literal_eval(sentiment_dict)\n",
    "\n",
    "max_val = max(sentiment_dict1.values())\n",
    "max_ticker = ''\n",
    "for key, value in sentiment_dict1.items():\n",
    "    if sentiment_dict1[key] == max_val:\n",
    "        max_ticker = key\n",
    "        break\n",
    "max_ticker"
   ]
  },
  {
   "cell_type": "markdown",
   "id": "a4132cec",
   "metadata": {},
   "source": [
    "# Adjust Your Portfolio to Redistribute Your Shares"
   ]
  },
  {
   "cell_type": "markdown",
   "id": "37016429",
   "metadata": {},
   "source": [
    "### For this we use a Google Tool and a Custom Math Tool"
   ]
  },
  {
   "cell_type": "code",
   "execution_count": 51,
   "id": "cb1fd65f",
   "metadata": {},
   "outputs": [],
   "source": [
    "from langchain import LLMMathChain\n",
    "search = GoogleSerperAPIWrapper()\n",
    "llm_math_chain = LLMMathChain(llm=llm, verbose=True)\n",
    "tools = [\n",
    "    Tool(\n",
    "        name=\"Search\",\n",
    "        func=search.run,\n",
    "        description=\"useful for when you need to search for current information on stock prices\"\n",
    "    )\n",
    "]"
   ]
  },
  {
   "cell_type": "code",
   "execution_count": 53,
   "id": "363febff",
   "metadata": {},
   "outputs": [],
   "source": [
    "from pydantic import BaseModel, Field\n",
    "\n",
    "class CalculatorInput(BaseModel):\n",
    "    question: str = Field()\n",
    "        \n",
    "\n",
    "tools.append(\n",
    "    Tool.from_function(\n",
    "        func=llm_math_chain.run,\n",
    "        name=\"Calculator\",\n",
    "        description=\"useful for when you need to answer questions about math\",\n",
    "        args_schema=CalculatorInput\n",
    "        # coroutine= ... <- you can specify an async method if desired as well\n",
    "    )\n",
    ")\n",
    "search_agent = initialize_agent(tools, llm, agent=AgentType.ZERO_SHOT_REACT_DESCRIPTION, verbose=True)"
   ]
  },
  {
   "cell_type": "code",
   "execution_count": 69,
   "id": "9cc93c00",
   "metadata": {
    "scrolled": true
   },
   "outputs": [
    {
     "name": "stdout",
     "output_type": "stream",
     "text": [
      "\n",
      "\n",
      "\u001b[1m> Entering new AgentExecutor chain...\u001b[0m\n",
      "\u001b[32;1m\u001b[1;3m I need to find the current market price for each ticker and multiply it by the number of shares provided.\n",
      "Action: Search\n",
      "Action Input: Current market price for AAPL\u001b[0m\n",
      "Observation: \u001b[36;1m\u001b[1;3m172.18 +0.34 (0.20%)\u001b[0m\n",
      "Thought:\u001b[32;1m\u001b[1;3m I need to multiply the current market price by the number of shares provided.\n",
      "Action: Calculator\n",
      "Action Input: 172.18 * 10\u001b[0m\n",
      "\n",
      "\u001b[1m> Entering new LLMMathChain chain...\u001b[0m\n",
      "172.18 * 10\u001b[32;1m\u001b[1;3m\n",
      "```text\n",
      "172.18 * 10\n",
      "```\n",
      "...numexpr.evaluate(\"172.18 * 10\")...\n",
      "\u001b[0m\n",
      "Answer: \u001b[33;1m\u001b[1;3m1721.8000000000002\u001b[0m\n",
      "\u001b[1m> Finished chain.\u001b[0m\n",
      "\n",
      "Observation: \u001b[38;5;200m\u001b[1;3mAnswer: 1721.8000000000002\u001b[0m\n",
      "Thought:\u001b[32;1m\u001b[1;3m I now know the final answer.\n",
      "Final Answer: 1721.8000000000002\u001b[0m\n",
      "\n",
      "\u001b[1m> Finished chain.\u001b[0m\n",
      "1721.8000000000002\n"
     ]
    }
   ],
   "source": [
    "prompt = f\"\"\"You are an AI fluent in Finance, \n",
    "\n",
    "Return the total market value by gathering the tickers and number of shares from {negative_sentiment}, make sure to \n",
    "multiply the current market price for each ticker by the number of shares provided. If there is only one do the \n",
    "math for just that ticker\n",
    "\n",
    "If there are multiple find each market value and sum all of them together\n",
    "\n",
    "Only return the number\"\"\"\n",
    "\n",
    "market_val = search_agent.run(prompt)\n",
    "print(market_val)"
   ]
  },
  {
   "cell_type": "markdown",
   "id": "8f33f5bb",
   "metadata": {},
   "source": [
    "#### Get the current market price of the stock with the highest sentiment "
   ]
  },
  {
   "cell_type": "code",
   "execution_count": 68,
   "id": "e0eec177",
   "metadata": {
    "scrolled": true
   },
   "outputs": [
    {
     "name": "stdout",
     "output_type": "stream",
     "text": [
      "\n",
      "\n",
      "\u001b[1m> Entering new AgentExecutor chain...\u001b[0m\n",
      "\u001b[32;1m\u001b[1;3m I need to find the current market price of CHE\n",
      "Action: Search\n",
      "Action Input: CHE stock price\u001b[0m\n",
      "Observation: \u001b[36;1m\u001b[1;3m539.61 -2.06 (0.38%)\u001b[0m\n",
      "Thought:\u001b[32;1m\u001b[1;3m I now know the final answer\n",
      "Final Answer: 539.61\u001b[0m\n",
      "\n",
      "\u001b[1m> Finished chain.\u001b[0m\n",
      "539.61\n"
     ]
    }
   ],
   "source": [
    "price_ticker = search_agent.run(f\"\"\"What is the current market price of {max_ticker}\n",
    "Only return the number\"\"\")\n",
    "print(price_ticker)"
   ]
  },
  {
   "cell_type": "markdown",
   "id": "ba7c48ba",
   "metadata": {},
   "source": [
    "#### Find the shares you are buying "
   ]
  },
  {
   "cell_type": "code",
   "execution_count": 73,
   "id": "ec705091",
   "metadata": {},
   "outputs": [
    {
     "data": {
      "text/plain": [
       "3.190823001797595"
      ]
     },
     "execution_count": 73,
     "metadata": {},
     "output_type": "execute_result"
    }
   ],
   "source": [
    "shares = float(market_val) / float(price_ticker)"
   ]
  },
  {
   "cell_type": "markdown",
   "id": "a1ab7578",
   "metadata": {},
   "source": [
    "# Adjust our portfolio using our LLM"
   ]
  },
  {
   "cell_type": "markdown",
   "id": "25ae9233",
   "metadata": {},
   "source": [
    "#### Simple Sequential Chain Example to Transfer Get our new Portfolio then Sort by Sector"
   ]
  },
  {
   "cell_type": "code",
   "execution_count": 75,
   "id": "68bd286b",
   "metadata": {},
   "outputs": [
    {
     "name": "stdout",
     "output_type": "stream",
     "text": [
      ".\n",
      "\n",
      "{\n",
      "  \"CHE\": 48.190823001797595,\n",
      "  \"DAL\": 13,\n",
      "  \"FFIC\": 5,\n",
      "  \"TSLA\": 4\n",
      "}\n"
     ]
    }
   ],
   "source": [
    "template = \"\"\"Given this portfolio Portfolio: {portfolio}, adjust the JSON to remove  the stock or stocks found in this \n",
    "dictionary Dictionary: {neg_sentiments}.\n",
    "\n",
    "Then in the portfolio, find the stock Stock: {ticker} and add the value Value: {shares} to it's value\n",
    "\n",
    "Return the full portfolio with the changes listed and sort the tickers by financial sector. Return format\n",
    "should be in JSON and tickers should be sorted by financial sector\"\"\"\n",
    "\n",
    "prompt_template = PromptTemplate(input_variables=[\"portfolio\", \"neg_sentiments\", \"shares\", \"ticker\"], template=template)\n",
    "\n",
    "updated_portfolio_chain = LLMChain(llm=llm, prompt=prompt_template)\n",
    "\n",
    "updated_portfolio = updated_portfolio_chain.run({\n",
    "    'neg_sentiments': negative_sentiment,\n",
    "    'portfolio': str(financial_portfolio),\n",
    "    'ticker': max_ticker,\n",
    "    'shares': shares\n",
    "\n",
    "    })\n",
    "\n",
    "print(updated_portfolio)"
   ]
  },
  {
   "cell_type": "markdown",
   "id": "75464563",
   "metadata": {},
   "source": [
    "## First Chain"
   ]
  },
  {
   "cell_type": "code",
   "execution_count": 80,
   "id": "b512b2c6",
   "metadata": {},
   "outputs": [],
   "source": [
    "template = \"\"\"Given this portfolio Portfolio: {portfolio}, adjust the JSON to remove  the stock or stocks found in this \n",
    "dictionary Dictionary: {neg_sentiments}.\n",
    "\n",
    "Then in the portfolio, find the stock Stock: {ticker} and add the value Value: {shares} to it's value\n",
    "\n",
    "Return the full portfolio with the changes listed and sort the tickers by financial sector. Return format\n",
    "should be in JSON and tickers should be sorted by financial sector\"\"\"\n",
    "\n",
    "prompt_template = PromptTemplate(input_variables=[\"portfolio\", \"neg_sentiments\", \"shares\", \"ticker\"], template=template)\n",
    "\n",
    "updated_portfolio_chain = LLMChain(llm=llm, prompt=prompt_template,\n",
    "                                output_key='updated_portfolio')"
   ]
  },
  {
   "cell_type": "markdown",
   "id": "b0a0746a",
   "metadata": {},
   "source": [
    "## Second Chain"
   ]
  },
  {
   "cell_type": "code",
   "execution_count": 81,
   "id": "126b08d8",
   "metadata": {},
   "outputs": [],
   "source": [
    "template = \"\"\"You are an AI assistant fluent in Finance. \n",
    "\n",
    "Given the following portfolio of tickers and how many shares you hold for that ticker, sort the investments by their respective financial sector and return it in JSON format\n",
    "\n",
    "Portfolio: {updated_portfolio}\"\"\"\n",
    "\n",
    "prompt_template = PromptTemplate(input_variables=[\"updated_portfolio\"], template=template)\n",
    "\n",
    "portfolio_sort_chain = LLMChain(llm=llm, prompt=prompt_template, output_key='sorted_portfolio')"
   ]
  },
  {
   "cell_type": "markdown",
   "id": "2c55118b",
   "metadata": {},
   "source": [
    "# Simple Sequential Chain -- Take the output of the first chain and send it as an input to the second"
   ]
  },
  {
   "cell_type": "code",
   "execution_count": 87,
   "id": "7989f839",
   "metadata": {},
   "outputs": [
    {
     "name": "stdout",
     "output_type": "stream",
     "text": [
      "\n",
      "\n",
      "\u001b[1m> Entering new SequentialChain chain...\u001b[0m\n",
      "\n",
      "\u001b[1m> Finished chain.\u001b[0m\n"
     ]
    }
   ],
   "source": [
    "from langchain.chains import SequentialChain\n",
    "\n",
    "combined_chain = SequentialChain(chains=[updated_portfolio_chain, portfolio_sort_chain],\n",
    "                                input_variables=[\"neg_sentiments\", \"portfolio\", \"ticker\", \"shares\"],\n",
    "                                output_variables=[\"sorted_portfolio\"],\n",
    "                                verbose=True)\n",
    "\n",
    "output = combined_chain({\n",
    "    'neg_sentiments': negative_sentiment,\n",
    "    'portfolio': str(financial_portfolio),\n",
    "    'ticker': max_ticker,\n",
    "    'shares': shares\n",
    "    })"
   ]
  },
  {
   "cell_type": "code",
   "execution_count": 91,
   "id": "f226546d",
   "metadata": {},
   "outputs": [
    {
     "data": {
      "text/plain": [
       "{'neg_sentiments': \"\\n\\n{'AAPL': 10}\",\n",
       " 'portfolio': \"{'AAPL': 10, 'FFIC': 5, 'CHE': 45, 'DAL': 13, 'TSLA': 4}\",\n",
       " 'ticker': 'CHE',\n",
       " 'shares': 3.190823001797595,\n",
       " 'sorted_portfolio': '\\n\\nJSON Output:\\n{\\n  \"Industrials\": {\\n    \"CHE\": 48.190823001797595\\n  },\\n  \"Transportation\": {\\n    \"DAL\": 13\\n  },\\n  \"Financials\": {\\n    \"FFIC\": 5\\n  },\\n  \"Consumer Discretionary\": {\\n    \"TSLA\": 4\\n  }\\n}'}"
      ]
     },
     "execution_count": 91,
     "metadata": {},
     "output_type": "execute_result"
    }
   ],
   "source": [
    "output"
   ]
  },
  {
   "cell_type": "code",
   "execution_count": 90,
   "id": "160aa59a",
   "metadata": {},
   "outputs": [
    {
     "data": {
      "text/plain": [
       "'\\n\\nJSON Output:\\n{\\n  \"Industrials\": {\\n    \"CHE\": 48.190823001797595\\n  },\\n  \"Transportation\": {\\n    \"DAL\": 13\\n  },\\n  \"Financials\": {\\n    \"FFIC\": 5\\n  },\\n  \"Consumer Discretionary\": {\\n    \"TSLA\": 4\\n  }\\n}'"
      ]
     },
     "execution_count": 90,
     "metadata": {},
     "output_type": "execute_result"
    }
   ],
   "source": [
    "output['sorted_portfolio']"
   ]
  }
 ],
 "metadata": {
  "kernelspec": {
   "display_name": "Python 3 (ipykernel)",
   "language": "python",
   "name": "python3"
  },
  "language_info": {
   "codemirror_mode": {
    "name": "ipython",
    "version": 3
   },
   "file_extension": ".py",
   "mimetype": "text/x-python",
   "name": "python",
   "nbconvert_exporter": "python",
   "pygments_lexer": "ipython3",
   "version": "3.10.9"
  }
 },
 "nbformat": 4,
 "nbformat_minor": 5
}
